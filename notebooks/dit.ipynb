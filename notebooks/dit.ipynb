{
 "cells": [
  {
   "cell_type": "code",
   "execution_count": 10,
   "metadata": {},
   "outputs": [],
   "source": [
    "import dit\n",
    "import numpy as np"
   ]
  },
  {
   "cell_type": "code",
   "execution_count": 21,
   "metadata": {},
   "outputs": [],
   "source": [
    "def get_discrete_dist(X):\n",
    "\n",
    "    # Step 1: Discretize the data into bins\n",
    "    num_bins = int(np.sqrt(len(X)))  # Using the square root of the number of data points as the number of bins\n",
    "    counts, bin_edges = np.histogram(X, bins=num_bins, density=True)\n",
    "    bin_probs = counts / counts.sum()  # Normalize the counts to get probabilities\n",
    "\n",
    "    # Step 2: Create a Dit Distribution from the binned data\n",
    "    outcomes = [str(bin) for bin in range(num_bins)]  # Creating outcome labels for each bin\n",
    "    return dit.ScalarDistribution(outcomes, bin_probs)\n",
    "\n",
    "def get_joint_dist(dist_A, dist_B):\n",
    "\n",
    "    # Create joint distribution assuming independence\n",
    "    outcomes_joint = []\n",
    "    probabilities_joint = []\n",
    "    for outcome_A, prob_A in zip(dist_A.outcomes, dist_A.pmf):\n",
    "        for outcome_B, prob_B in zip(dist_B.outcomes, dist_B.pmf):\n",
    "            combined_outcome = (outcome_A, outcome_B)\n",
    "            joint_probability = prob_A * prob_B\n",
    "            outcomes_joint.append(combined_outcome)\n",
    "            probabilities_joint.append(joint_probability)\n",
    "\n",
    "    return dit.Distribution(outcomes_joint, probabilities_joint)\n",
    "\n",
    "def o_info(variables):\n",
    "\n",
    "    # Step 3: Calculate the entropy using Dit\n",
    "    entropy = dit.shannon.entropy(dit_dist)\n",
    "    print(\"Estimated Entropy of X:\", entropy)"
   ]
  },
  {
   "cell_type": "code",
   "execution_count": 46,
   "metadata": {},
   "outputs": [
    {
     "name": "stdout",
     "output_type": "stream",
     "text": [
      "H(X,Y) =  3.5066809325695445\n",
      "I(X,Y) =  3.5066809325695445\n"
     ]
    }
   ],
   "source": [
    "np.random.seed(0)  # For reproducibility\n",
    "\n",
    "data1 = np.random.normal(loc=0, scale=1, size=200)  # 200 samples from a normal distribution\n",
    "data2 = np.random.normal(loc=0, scale=1, size=200)  # 200 samples from a normal distribution\n",
    "\n",
    "X1 = get_discrete_dist(data1)\n",
    "X2 = get_discrete_dist(data2)\n",
    "\n",
    "X = dit.Distribution(\n",
    "    [(x,x) for x in X1],\n",
    "    [X1[x] for x in X1]\n",
    ")\n",
    "#X = get_joint_dist(X1, X1)\n",
    "X.set_rv_names(['X', 'Y'])\n",
    "\n",
    "print('H(X,Y) = ', dit.shannon.entropy(X))\n",
    "print('I(X,Y) = ', dit.shannon.mutual_information(X, ['X'], ['Y']))"
   ]
  },
  {
   "cell_type": "code",
   "execution_count": 33,
   "metadata": {},
   "outputs": [
    {
     "data": {
      "text/html": [
       "<div><div style=\"float: left\"><table border=\"1\"><tr><th>Class:</th><td>Distribution</td></tr><tr><th>Alphabet:</th><td>('0', '1', '10', '11', '12', '13', '2', '3', '4', '5', '6', '7', '8', '9') for all rvs</td></tr><tr><th>Base:</th><td>linear</td></tr><tr><th>Outcome Class:</th><td>tuple</td></tr><tr><th>Outcome Length:</th><td>2</td></tr></table></div><div style=\"float: left\"><table><tr><th>X</th><th>Y</th><th>p(x)</th></tr><tr><td>0</td><td>0</td><td>9.999999999999996e-05</td></tr><tr><td>0</td><td>1</td><td>9.999999999999996e-05</td></tr><tr><td>0</td><td>10</td><td>0.0006999999999999998</td></tr><tr><td>0</td><td>11</td><td>0.00024999999999999995</td></tr><tr><td>0</td><td>12</td><td>0.00014999999999999996</td></tr><tr><td>0</td><td>13</td><td>0.0002500000000000002</td></tr><tr><td>0</td><td>2</td><td>0.00024999999999999995</td></tr><tr><td>0</td><td>3</td><td>0.0006999999999999998</td></tr><tr><td>0</td><td>4</td><td>0.0006999999999999998</td></tr><tr><td>0</td><td>5</td><td>0.0010999999999999996</td></tr><tr><td>0</td><td>6</td><td>0.0017999999999999993</td></tr><tr><td>0</td><td>7</td><td>0.0013999999999999996</td></tr><tr><td>0</td><td>8</td><td>0.0011499999999999998</td></tr><tr><td>0</td><td>9</td><td>0.0013499999999999996</td></tr><tr><td>1</td><td>0</td><td>4.999999999999998e-05</td></tr><tr><td>1</td><td>1</td><td>4.999999999999998e-05</td></tr><tr><td>1</td><td>10</td><td>0.0003499999999999999</td></tr><tr><td>1</td><td>11</td><td>0.00012499999999999998</td></tr><tr><td>1</td><td>12</td><td>7.499999999999998e-05</td></tr><tr><td>1</td><td>13</td><td>0.0001250000000000001</td></tr><tr><td>1</td><td>2</td><td>0.00012499999999999998</td></tr><tr><td>1</td><td>3</td><td>0.0003499999999999999</td></tr><tr><td>1</td><td>4</td><td>0.0003499999999999999</td></tr><tr><td>1</td><td>5</td><td>0.0005499999999999998</td></tr><tr><td>1</td><td>6</td><td>0.0008999999999999997</td></tr><tr><td>1</td><td>7</td><td>0.0006999999999999998</td></tr><tr><td>1</td><td>8</td><td>0.0005749999999999999</td></tr><tr><td>1</td><td>9</td><td>0.0006749999999999998</td></tr><tr><td>10</td><td>0</td><td>0.0005499999999999998</td></tr><tr><td>10</td><td>1</td><td>0.0005499999999999998</td></tr><tr><td>10</td><td>10</td><td>0.0038499999999999993</td></tr><tr><td>10</td><td>11</td><td>0.001375</td></tr><tr><td>10</td><td>12</td><td>0.0008249999999999998</td></tr><tr><td>10</td><td>13</td><td>0.0013750000000000012</td></tr><tr><td>10</td><td>2</td><td>0.001375</td></tr><tr><td>10</td><td>3</td><td>0.0038499999999999993</td></tr><tr><td>10</td><td>4</td><td>0.0038499999999999993</td></tr><tr><td>10</td><td>5</td><td>0.006049999999999999</td></tr><tr><td>10</td><td>6</td><td>0.009899999999999997</td></tr><tr><td>10</td><td>7</td><td>0.0076999999999999985</td></tr><tr><td>10</td><td>8</td><td>0.006324999999999999</td></tr><tr><td>10</td><td>9</td><td>0.0074249999999999984</td></tr><tr><td>11</td><td>0</td><td>0.0004499999999999998</td></tr><tr><td>11</td><td>1</td><td>0.0004499999999999998</td></tr><tr><td>11</td><td>10</td><td>0.003149999999999999</td></tr><tr><td>11</td><td>11</td><td>0.001125</td></tr><tr><td>11</td><td>12</td><td>0.0006749999999999998</td></tr><tr><td>11</td><td>13</td><td>0.001125000000000001</td></tr><tr><td>11</td><td>2</td><td>0.001125</td></tr><tr><td>11</td><td>3</td><td>0.003149999999999999</td></tr><tr><td>11</td><td>4</td><td>0.003149999999999999</td></tr><tr><td>11</td><td>5</td><td>0.004949999999999999</td></tr><tr><td>11</td><td>6</td><td>0.008099999999999996</td></tr><tr><td>11</td><td>7</td><td>0.006299999999999998</td></tr><tr><td>11</td><td>8</td><td>0.005174999999999998</td></tr><tr><td>11</td><td>9</td><td>0.006074999999999998</td></tr><tr><td>12</td><td>0</td><td>0.00065</td></tr><tr><td>12</td><td>1</td><td>0.00065</td></tr><tr><td>12</td><td>10</td><td>0.004549999999999999</td></tr><tr><td>12</td><td>11</td><td>0.0016250000000000001</td></tr><tr><td>12</td><td>12</td><td>0.0009749999999999998</td></tr><tr><td>12</td><td>13</td><td>0.0016250000000000017</td></tr><tr><td>12</td><td>2</td><td>0.0016250000000000001</td></tr><tr><td>12</td><td>3</td><td>0.004549999999999999</td></tr><tr><td>12</td><td>4</td><td>0.004549999999999999</td></tr><tr><td>12</td><td>5</td><td>0.007149999999999999</td></tr><tr><td>12</td><td>6</td><td>0.011699999999999999</td></tr><tr><td>12</td><td>7</td><td>0.009099999999999999</td></tr><tr><td>12</td><td>8</td><td>0.007475</td></tr><tr><td>12</td><td>9</td><td>0.008775</td></tr><tr><td>13</td><td>0</td><td>0.00020000000000000017</td></tr><tr><td>13</td><td>1</td><td>0.00020000000000000017</td></tr><tr><td>13</td><td>10</td><td>0.0014000000000000013</td></tr><tr><td>13</td><td>11</td><td>0.0005000000000000006</td></tr><tr><td>13</td><td>12</td><td>0.0003000000000000003</td></tr><tr><td>13</td><td>13</td><td>0.0005000000000000011</td></tr><tr><td>13</td><td>2</td><td>0.0005000000000000006</td></tr><tr><td>13</td><td>3</td><td>0.0014000000000000013</td></tr><tr><td>13</td><td>4</td><td>0.0014000000000000013</td></tr><tr><td>13</td><td>5</td><td>0.002200000000000002</td></tr><tr><td>13</td><td>6</td><td>0.003600000000000003</td></tr><tr><td>13</td><td>7</td><td>0.0028000000000000026</td></tr><tr><td>13</td><td>8</td><td>0.002300000000000002</td></tr><tr><td>13</td><td>9</td><td>0.0027000000000000023</td></tr><tr><td>2</td><td>0</td><td>0.0003499999999999999</td></tr><tr><td>2</td><td>1</td><td>0.0003499999999999999</td></tr><tr><td>2</td><td>10</td><td>0.0024499999999999995</td></tr><tr><td>2</td><td>11</td><td>0.0008749999999999999</td></tr><tr><td>2</td><td>12</td><td>0.0005249999999999999</td></tr><tr><td>2</td><td>13</td><td>0.0008750000000000008</td></tr><tr><td>2</td><td>2</td><td>0.0008749999999999999</td></tr><tr><td>2</td><td>3</td><td>0.0024499999999999995</td></tr><tr><td>2</td><td>4</td><td>0.0024499999999999995</td></tr><tr><td>2</td><td>5</td><td>0.0038499999999999993</td></tr><tr><td>2</td><td>6</td><td>0.006299999999999998</td></tr><tr><td>2</td><td>7</td><td>0.004899999999999999</td></tr><tr><td>2</td><td>8</td><td>0.004024999999999999</td></tr><tr><td>2</td><td>9</td><td>0.004724999999999999</td></tr><tr><td>3</td><td>0</td><td>0.0007999999999999997</td></tr><tr><td>3</td><td>1</td><td>0.0007999999999999997</td></tr><tr><td>3</td><td>10</td><td>0.005599999999999998</td></tr><tr><td>3</td><td>11</td><td>0.0019999999999999996</td></tr><tr><td>3</td><td>12</td><td>0.0011999999999999997</td></tr><tr><td>3</td><td>13</td><td>0.0020000000000000018</td></tr><tr><td>3</td><td>2</td><td>0.0019999999999999996</td></tr><tr><td>3</td><td>3</td><td>0.005599999999999998</td></tr><tr><td>3</td><td>4</td><td>0.005599999999999998</td></tr><tr><td>3</td><td>5</td><td>0.008799999999999997</td></tr><tr><td>3</td><td>6</td><td>0.014399999999999994</td></tr><tr><td>3</td><td>7</td><td>0.011199999999999996</td></tr><tr><td>3</td><td>8</td><td>0.009199999999999998</td></tr><tr><td>3</td><td>9</td><td>0.010799999999999997</td></tr><tr><td>4</td><td>0</td><td>0.0009499999999999998</td></tr><tr><td>4</td><td>1</td><td>0.0009499999999999998</td></tr><tr><td>4</td><td>10</td><td>0.006649999999999999</td></tr><tr><td>4</td><td>11</td><td>0.002375</td></tr><tr><td>4</td><td>12</td><td>0.0014249999999999996</td></tr><tr><td>4</td><td>13</td><td>0.002375000000000002</td></tr><tr><td>4</td><td>2</td><td>0.002375</td></tr><tr><td>4</td><td>3</td><td>0.006649999999999999</td></tr><tr><td>4</td><td>4</td><td>0.006649999999999999</td></tr><tr><td>4</td><td>5</td><td>0.010449999999999997</td></tr><tr><td>4</td><td>6</td><td>0.017099999999999994</td></tr><tr><td>4</td><td>7</td><td>0.013299999999999998</td></tr><tr><td>4</td><td>8</td><td>0.010924999999999997</td></tr><tr><td>4</td><td>9</td><td>0.012824999999999996</td></tr><tr><td>5</td><td>0</td><td>0.00115</td></tr><tr><td>5</td><td>1</td><td>0.00115</td></tr><tr><td>5</td><td>10</td><td>0.00805</td></tr><tr><td>5</td><td>11</td><td>0.0028750000000000004</td></tr><tr><td>5</td><td>12</td><td>0.0017249999999999998</td></tr><tr><td>5</td><td>13</td><td>0.002875000000000003</td></tr><tr><td>5</td><td>2</td><td>0.0028750000000000004</td></tr><tr><td>5</td><td>3</td><td>0.00805</td></tr><tr><td>5</td><td>4</td><td>0.00805</td></tr><tr><td>5</td><td>5</td><td>0.01265</td></tr><tr><td>5</td><td>6</td><td>0.020699999999999996</td></tr><tr><td>5</td><td>7</td><td>0.0161</td></tr><tr><td>5</td><td>8</td><td>0.013224999999999999</td></tr><tr><td>5</td><td>9</td><td>0.015524999999999999</td></tr><tr><td>6</td><td>0</td><td>0.00115</td></tr><tr><td>6</td><td>1</td><td>0.00115</td></tr><tr><td>6</td><td>10</td><td>0.00805</td></tr><tr><td>6</td><td>11</td><td>0.0028750000000000004</td></tr><tr><td>6</td><td>12</td><td>0.0017249999999999998</td></tr><tr><td>6</td><td>13</td><td>0.002875000000000003</td></tr><tr><td>6</td><td>2</td><td>0.0028750000000000004</td></tr><tr><td>6</td><td>3</td><td>0.00805</td></tr><tr><td>6</td><td>4</td><td>0.00805</td></tr><tr><td>6</td><td>5</td><td>0.01265</td></tr><tr><td>6</td><td>6</td><td>0.020699999999999996</td></tr><tr><td>6</td><td>7</td><td>0.0161</td></tr><tr><td>6</td><td>8</td><td>0.013224999999999999</td></tr><tr><td>6</td><td>9</td><td>0.015524999999999999</td></tr><tr><td>7</td><td>0</td><td>0.0010999999999999996</td></tr><tr><td>7</td><td>1</td><td>0.0010999999999999996</td></tr><tr><td>7</td><td>10</td><td>0.0076999999999999985</td></tr><tr><td>7</td><td>11</td><td>0.00275</td></tr><tr><td>7</td><td>12</td><td>0.0016499999999999996</td></tr><tr><td>7</td><td>13</td><td>0.0027500000000000024</td></tr><tr><td>7</td><td>2</td><td>0.00275</td></tr><tr><td>7</td><td>3</td><td>0.0076999999999999985</td></tr><tr><td>7</td><td>4</td><td>0.0076999999999999985</td></tr><tr><td>7</td><td>5</td><td>0.012099999999999998</td></tr><tr><td>7</td><td>6</td><td>0.019799999999999995</td></tr><tr><td>7</td><td>7</td><td>0.015399999999999997</td></tr><tr><td>7</td><td>8</td><td>0.012649999999999998</td></tr><tr><td>7</td><td>9</td><td>0.014849999999999997</td></tr><tr><td>8</td><td>0</td><td>0.0012499999999999996</td></tr><tr><td>8</td><td>1</td><td>0.0012499999999999996</td></tr><tr><td>8</td><td>10</td><td>0.008749999999999997</td></tr><tr><td>8</td><td>11</td><td>0.0031249999999999997</td></tr><tr><td>8</td><td>12</td><td>0.0018749999999999995</td></tr><tr><td>8</td><td>13</td><td>0.0031250000000000028</td></tr><tr><td>8</td><td>2</td><td>0.0031249999999999997</td></tr><tr><td>8</td><td>3</td><td>0.008749999999999997</td></tr><tr><td>8</td><td>4</td><td>0.008749999999999997</td></tr><tr><td>8</td><td>5</td><td>0.013749999999999997</td></tr><tr><td>8</td><td>6</td><td>0.022499999999999992</td></tr><tr><td>8</td><td>7</td><td>0.017499999999999995</td></tr><tr><td>8</td><td>8</td><td>0.014374999999999997</td></tr><tr><td>8</td><td>9</td><td>0.016874999999999994</td></tr><tr><td>9</td><td>0</td><td>0.0012499999999999996</td></tr><tr><td>9</td><td>1</td><td>0.0012499999999999996</td></tr><tr><td>9</td><td>10</td><td>0.008749999999999997</td></tr><tr><td>9</td><td>11</td><td>0.0031249999999999997</td></tr><tr><td>9</td><td>12</td><td>0.0018749999999999995</td></tr><tr><td>9</td><td>13</td><td>0.0031250000000000028</td></tr><tr><td>9</td><td>2</td><td>0.0031249999999999997</td></tr><tr><td>9</td><td>3</td><td>0.008749999999999997</td></tr><tr><td>9</td><td>4</td><td>0.008749999999999997</td></tr><tr><td>9</td><td>5</td><td>0.013749999999999997</td></tr><tr><td>9</td><td>6</td><td>0.022499999999999992</td></tr><tr><td>9</td><td>7</td><td>0.017499999999999995</td></tr><tr><td>9</td><td>8</td><td>0.014374999999999997</td></tr><tr><td>9</td><td>9</td><td>0.016874999999999994</td></tr></table></div></div>"
      ],
      "text/plain": [
       "<dit.npdist.Distribution object at 0x7f4cb7204130>"
      ]
     },
     "execution_count": 33,
     "metadata": {},
     "output_type": "execute_result"
    }
   ],
   "source": [
    "\n",
    "X"
   ]
  },
  {
   "cell_type": "code",
   "execution_count": 32,
   "metadata": {},
   "outputs": [
    {
     "data": {
      "text/html": [
       "<div><div style=\"float: left\"><table border=\"1\"><tr><th>Class:</th><td>Distribution</td></tr><tr><th>Alphabet:</th><td>('0', '1', '10', '11', '12', '13', '2', '3', '4', '5', '6', '7', '8', '9') for all rvs</td></tr><tr><th>Base:</th><td>linear</td></tr><tr><th>Outcome Class:</th><td>tuple</td></tr><tr><th>Outcome Length:</th><td>2</td></tr></table></div><div style=\"float: left\"><table><tr><th>x[0]</th><th>x[1]</th><th>p(x)</th></tr><tr><td>0</td><td>0</td><td>9.999999999999996e-05</td></tr><tr><td>0</td><td>1</td><td>9.999999999999996e-05</td></tr><tr><td>0</td><td>10</td><td>0.0006999999999999998</td></tr><tr><td>0</td><td>11</td><td>0.00024999999999999995</td></tr><tr><td>0</td><td>12</td><td>0.00014999999999999996</td></tr><tr><td>0</td><td>13</td><td>0.0002500000000000002</td></tr><tr><td>0</td><td>2</td><td>0.00024999999999999995</td></tr><tr><td>0</td><td>3</td><td>0.0006999999999999998</td></tr><tr><td>0</td><td>4</td><td>0.0006999999999999998</td></tr><tr><td>0</td><td>5</td><td>0.0010999999999999996</td></tr><tr><td>0</td><td>6</td><td>0.0017999999999999993</td></tr><tr><td>0</td><td>7</td><td>0.0013999999999999996</td></tr><tr><td>0</td><td>8</td><td>0.0011499999999999998</td></tr><tr><td>0</td><td>9</td><td>0.0013499999999999996</td></tr><tr><td>1</td><td>0</td><td>4.999999999999998e-05</td></tr><tr><td>1</td><td>1</td><td>4.999999999999998e-05</td></tr><tr><td>1</td><td>10</td><td>0.0003499999999999999</td></tr><tr><td>1</td><td>11</td><td>0.00012499999999999998</td></tr><tr><td>1</td><td>12</td><td>7.499999999999998e-05</td></tr><tr><td>1</td><td>13</td><td>0.0001250000000000001</td></tr><tr><td>1</td><td>2</td><td>0.00012499999999999998</td></tr><tr><td>1</td><td>3</td><td>0.0003499999999999999</td></tr><tr><td>1</td><td>4</td><td>0.0003499999999999999</td></tr><tr><td>1</td><td>5</td><td>0.0005499999999999998</td></tr><tr><td>1</td><td>6</td><td>0.0008999999999999997</td></tr><tr><td>1</td><td>7</td><td>0.0006999999999999998</td></tr><tr><td>1</td><td>8</td><td>0.0005749999999999999</td></tr><tr><td>1</td><td>9</td><td>0.0006749999999999998</td></tr><tr><td>10</td><td>0</td><td>0.0005499999999999998</td></tr><tr><td>10</td><td>1</td><td>0.0005499999999999998</td></tr><tr><td>10</td><td>10</td><td>0.0038499999999999993</td></tr><tr><td>10</td><td>11</td><td>0.001375</td></tr><tr><td>10</td><td>12</td><td>0.0008249999999999998</td></tr><tr><td>10</td><td>13</td><td>0.0013750000000000012</td></tr><tr><td>10</td><td>2</td><td>0.001375</td></tr><tr><td>10</td><td>3</td><td>0.0038499999999999993</td></tr><tr><td>10</td><td>4</td><td>0.0038499999999999993</td></tr><tr><td>10</td><td>5</td><td>0.006049999999999999</td></tr><tr><td>10</td><td>6</td><td>0.009899999999999997</td></tr><tr><td>10</td><td>7</td><td>0.0076999999999999985</td></tr><tr><td>10</td><td>8</td><td>0.006324999999999999</td></tr><tr><td>10</td><td>9</td><td>0.0074249999999999984</td></tr><tr><td>11</td><td>0</td><td>0.0004499999999999998</td></tr><tr><td>11</td><td>1</td><td>0.0004499999999999998</td></tr><tr><td>11</td><td>10</td><td>0.003149999999999999</td></tr><tr><td>11</td><td>11</td><td>0.001125</td></tr><tr><td>11</td><td>12</td><td>0.0006749999999999998</td></tr><tr><td>11</td><td>13</td><td>0.001125000000000001</td></tr><tr><td>11</td><td>2</td><td>0.001125</td></tr><tr><td>11</td><td>3</td><td>0.003149999999999999</td></tr><tr><td>11</td><td>4</td><td>0.003149999999999999</td></tr><tr><td>11</td><td>5</td><td>0.004949999999999999</td></tr><tr><td>11</td><td>6</td><td>0.008099999999999996</td></tr><tr><td>11</td><td>7</td><td>0.006299999999999998</td></tr><tr><td>11</td><td>8</td><td>0.005174999999999998</td></tr><tr><td>11</td><td>9</td><td>0.006074999999999998</td></tr><tr><td>12</td><td>0</td><td>0.00065</td></tr><tr><td>12</td><td>1</td><td>0.00065</td></tr><tr><td>12</td><td>10</td><td>0.004549999999999999</td></tr><tr><td>12</td><td>11</td><td>0.0016250000000000001</td></tr><tr><td>12</td><td>12</td><td>0.0009749999999999998</td></tr><tr><td>12</td><td>13</td><td>0.0016250000000000017</td></tr><tr><td>12</td><td>2</td><td>0.0016250000000000001</td></tr><tr><td>12</td><td>3</td><td>0.004549999999999999</td></tr><tr><td>12</td><td>4</td><td>0.004549999999999999</td></tr><tr><td>12</td><td>5</td><td>0.007149999999999999</td></tr><tr><td>12</td><td>6</td><td>0.011699999999999999</td></tr><tr><td>12</td><td>7</td><td>0.009099999999999999</td></tr><tr><td>12</td><td>8</td><td>0.007475</td></tr><tr><td>12</td><td>9</td><td>0.008775</td></tr><tr><td>13</td><td>0</td><td>0.00020000000000000017</td></tr><tr><td>13</td><td>1</td><td>0.00020000000000000017</td></tr><tr><td>13</td><td>10</td><td>0.0014000000000000013</td></tr><tr><td>13</td><td>11</td><td>0.0005000000000000006</td></tr><tr><td>13</td><td>12</td><td>0.0003000000000000003</td></tr><tr><td>13</td><td>13</td><td>0.0005000000000000011</td></tr><tr><td>13</td><td>2</td><td>0.0005000000000000006</td></tr><tr><td>13</td><td>3</td><td>0.0014000000000000013</td></tr><tr><td>13</td><td>4</td><td>0.0014000000000000013</td></tr><tr><td>13</td><td>5</td><td>0.002200000000000002</td></tr><tr><td>13</td><td>6</td><td>0.003600000000000003</td></tr><tr><td>13</td><td>7</td><td>0.0028000000000000026</td></tr><tr><td>13</td><td>8</td><td>0.002300000000000002</td></tr><tr><td>13</td><td>9</td><td>0.0027000000000000023</td></tr><tr><td>2</td><td>0</td><td>0.0003499999999999999</td></tr><tr><td>2</td><td>1</td><td>0.0003499999999999999</td></tr><tr><td>2</td><td>10</td><td>0.0024499999999999995</td></tr><tr><td>2</td><td>11</td><td>0.0008749999999999999</td></tr><tr><td>2</td><td>12</td><td>0.0005249999999999999</td></tr><tr><td>2</td><td>13</td><td>0.0008750000000000008</td></tr><tr><td>2</td><td>2</td><td>0.0008749999999999999</td></tr><tr><td>2</td><td>3</td><td>0.0024499999999999995</td></tr><tr><td>2</td><td>4</td><td>0.0024499999999999995</td></tr><tr><td>2</td><td>5</td><td>0.0038499999999999993</td></tr><tr><td>2</td><td>6</td><td>0.006299999999999998</td></tr><tr><td>2</td><td>7</td><td>0.004899999999999999</td></tr><tr><td>2</td><td>8</td><td>0.004024999999999999</td></tr><tr><td>2</td><td>9</td><td>0.004724999999999999</td></tr><tr><td>3</td><td>0</td><td>0.0007999999999999997</td></tr><tr><td>3</td><td>1</td><td>0.0007999999999999997</td></tr><tr><td>3</td><td>10</td><td>0.005599999999999998</td></tr><tr><td>3</td><td>11</td><td>0.0019999999999999996</td></tr><tr><td>3</td><td>12</td><td>0.0011999999999999997</td></tr><tr><td>3</td><td>13</td><td>0.0020000000000000018</td></tr><tr><td>3</td><td>2</td><td>0.0019999999999999996</td></tr><tr><td>3</td><td>3</td><td>0.005599999999999998</td></tr><tr><td>3</td><td>4</td><td>0.005599999999999998</td></tr><tr><td>3</td><td>5</td><td>0.008799999999999997</td></tr><tr><td>3</td><td>6</td><td>0.014399999999999994</td></tr><tr><td>3</td><td>7</td><td>0.011199999999999996</td></tr><tr><td>3</td><td>8</td><td>0.009199999999999998</td></tr><tr><td>3</td><td>9</td><td>0.010799999999999997</td></tr><tr><td>4</td><td>0</td><td>0.0009499999999999998</td></tr><tr><td>4</td><td>1</td><td>0.0009499999999999998</td></tr><tr><td>4</td><td>10</td><td>0.006649999999999999</td></tr><tr><td>4</td><td>11</td><td>0.002375</td></tr><tr><td>4</td><td>12</td><td>0.0014249999999999996</td></tr><tr><td>4</td><td>13</td><td>0.002375000000000002</td></tr><tr><td>4</td><td>2</td><td>0.002375</td></tr><tr><td>4</td><td>3</td><td>0.006649999999999999</td></tr><tr><td>4</td><td>4</td><td>0.006649999999999999</td></tr><tr><td>4</td><td>5</td><td>0.010449999999999997</td></tr><tr><td>4</td><td>6</td><td>0.017099999999999994</td></tr><tr><td>4</td><td>7</td><td>0.013299999999999998</td></tr><tr><td>4</td><td>8</td><td>0.010924999999999997</td></tr><tr><td>4</td><td>9</td><td>0.012824999999999996</td></tr><tr><td>5</td><td>0</td><td>0.00115</td></tr><tr><td>5</td><td>1</td><td>0.00115</td></tr><tr><td>5</td><td>10</td><td>0.00805</td></tr><tr><td>5</td><td>11</td><td>0.0028750000000000004</td></tr><tr><td>5</td><td>12</td><td>0.0017249999999999998</td></tr><tr><td>5</td><td>13</td><td>0.002875000000000003</td></tr><tr><td>5</td><td>2</td><td>0.0028750000000000004</td></tr><tr><td>5</td><td>3</td><td>0.00805</td></tr><tr><td>5</td><td>4</td><td>0.00805</td></tr><tr><td>5</td><td>5</td><td>0.01265</td></tr><tr><td>5</td><td>6</td><td>0.020699999999999996</td></tr><tr><td>5</td><td>7</td><td>0.0161</td></tr><tr><td>5</td><td>8</td><td>0.013224999999999999</td></tr><tr><td>5</td><td>9</td><td>0.015524999999999999</td></tr><tr><td>6</td><td>0</td><td>0.00115</td></tr><tr><td>6</td><td>1</td><td>0.00115</td></tr><tr><td>6</td><td>10</td><td>0.00805</td></tr><tr><td>6</td><td>11</td><td>0.0028750000000000004</td></tr><tr><td>6</td><td>12</td><td>0.0017249999999999998</td></tr><tr><td>6</td><td>13</td><td>0.002875000000000003</td></tr><tr><td>6</td><td>2</td><td>0.0028750000000000004</td></tr><tr><td>6</td><td>3</td><td>0.00805</td></tr><tr><td>6</td><td>4</td><td>0.00805</td></tr><tr><td>6</td><td>5</td><td>0.01265</td></tr><tr><td>6</td><td>6</td><td>0.020699999999999996</td></tr><tr><td>6</td><td>7</td><td>0.0161</td></tr><tr><td>6</td><td>8</td><td>0.013224999999999999</td></tr><tr><td>6</td><td>9</td><td>0.015524999999999999</td></tr><tr><td>7</td><td>0</td><td>0.0010999999999999996</td></tr><tr><td>7</td><td>1</td><td>0.0010999999999999996</td></tr><tr><td>7</td><td>10</td><td>0.0076999999999999985</td></tr><tr><td>7</td><td>11</td><td>0.00275</td></tr><tr><td>7</td><td>12</td><td>0.0016499999999999996</td></tr><tr><td>7</td><td>13</td><td>0.0027500000000000024</td></tr><tr><td>7</td><td>2</td><td>0.00275</td></tr><tr><td>7</td><td>3</td><td>0.0076999999999999985</td></tr><tr><td>7</td><td>4</td><td>0.0076999999999999985</td></tr><tr><td>7</td><td>5</td><td>0.012099999999999998</td></tr><tr><td>7</td><td>6</td><td>0.019799999999999995</td></tr><tr><td>7</td><td>7</td><td>0.015399999999999997</td></tr><tr><td>7</td><td>8</td><td>0.012649999999999998</td></tr><tr><td>7</td><td>9</td><td>0.014849999999999997</td></tr><tr><td>8</td><td>0</td><td>0.0012499999999999996</td></tr><tr><td>8</td><td>1</td><td>0.0012499999999999996</td></tr><tr><td>8</td><td>10</td><td>0.008749999999999997</td></tr><tr><td>8</td><td>11</td><td>0.0031249999999999997</td></tr><tr><td>8</td><td>12</td><td>0.0018749999999999995</td></tr><tr><td>8</td><td>13</td><td>0.0031250000000000028</td></tr><tr><td>8</td><td>2</td><td>0.0031249999999999997</td></tr><tr><td>8</td><td>3</td><td>0.008749999999999997</td></tr><tr><td>8</td><td>4</td><td>0.008749999999999997</td></tr><tr><td>8</td><td>5</td><td>0.013749999999999997</td></tr><tr><td>8</td><td>6</td><td>0.022499999999999992</td></tr><tr><td>8</td><td>7</td><td>0.017499999999999995</td></tr><tr><td>8</td><td>8</td><td>0.014374999999999997</td></tr><tr><td>8</td><td>9</td><td>0.016874999999999994</td></tr><tr><td>9</td><td>0</td><td>0.0012499999999999996</td></tr><tr><td>9</td><td>1</td><td>0.0012499999999999996</td></tr><tr><td>9</td><td>10</td><td>0.008749999999999997</td></tr><tr><td>9</td><td>11</td><td>0.0031249999999999997</td></tr><tr><td>9</td><td>12</td><td>0.0018749999999999995</td></tr><tr><td>9</td><td>13</td><td>0.0031250000000000028</td></tr><tr><td>9</td><td>2</td><td>0.0031249999999999997</td></tr><tr><td>9</td><td>3</td><td>0.008749999999999997</td></tr><tr><td>9</td><td>4</td><td>0.008749999999999997</td></tr><tr><td>9</td><td>5</td><td>0.013749999999999997</td></tr><tr><td>9</td><td>6</td><td>0.022499999999999992</td></tr><tr><td>9</td><td>7</td><td>0.017499999999999995</td></tr><tr><td>9</td><td>8</td><td>0.014374999999999997</td></tr><tr><td>9</td><td>9</td><td>0.016874999999999994</td></tr></table></div></div>"
      ],
      "text/plain": [
       "<dit.npdist.Distribution object at 0x7f4cb7204130>"
      ]
     },
     "execution_count": 32,
     "metadata": {},
     "output_type": "execute_result"
    }
   ],
   "source": [
    "X"
   ]
  },
  {
   "cell_type": "code",
   "execution_count": null,
   "metadata": {},
   "outputs": [],
   "source": []
  }
 ],
 "metadata": {
  "kernelspec": {
   "display_name": "vte",
   "language": "python",
   "name": "python3"
  },
  "language_info": {
   "codemirror_mode": {
    "name": "ipython",
    "version": 3
   },
   "file_extension": ".py",
   "mimetype": "text/x-python",
   "name": "python",
   "nbconvert_exporter": "python",
   "pygments_lexer": "ipython3",
   "version": "3.10.8"
  }
 },
 "nbformat": 4,
 "nbformat_minor": 2
}
