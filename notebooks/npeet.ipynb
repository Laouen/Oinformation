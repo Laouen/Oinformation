{
 "cells": [
  {
   "cell_type": "code",
   "execution_count": 31,
   "metadata": {},
   "outputs": [],
   "source": [
    "from npeet import entropy_estimators as ee\n",
    "from itertools import chain\n",
    "import numpy as np"
   ]
  },
  {
   "cell_type": "code",
   "execution_count": 61,
   "metadata": {},
   "outputs": [],
   "source": [
    "def join_samples(*vars):\n",
    "    return [list(chain(*v)) for v in zip(*vars)]\n",
    "\n",
    "def system_entropy(*vars):\n",
    "    Xn = join_samples(*vars)\n",
    "    print('Xn:', Xn)\n",
    "    return ee.entropy(Xn)\n",
    "\n",
    "def o_information(*variables):\n",
    "    n = len(variables)\n",
    "    joint_entropy = system_entropy(*variables)\n",
    "    individual_entropies = sum(system_entropy(var) for var in variables)\n",
    "    conditional_entropies = sum(system_entropy(*(variables[:i] + variables[i+1:])) for i in range(n))\n",
    "\n",
    "    print(joint_entropy)\n",
    "    print(individual_entropies)\n",
    "    print(conditional_entropies)\n",
    "\n",
    "    return (n - 2) * joint_entropy + individual_entropies - conditional_entropies\n"
   ]
  },
  {
   "cell_type": "code",
   "execution_count": 87,
   "metadata": {},
   "outputs": [
    {
     "name": "stdout",
     "output_type": "stream",
     "text": [
      "Xn: [[1.3, 1.5], [3.7, 3.32], [5.1, 5.3], [2.4, 2.3], [3.4, 3.3]]\n",
      "Xn: [[1.3], [3.7], [5.1], [2.4], [3.4]]\n",
      "Xn: [[1.5], [3.32], [5.3], [2.3], [3.3]]\n",
      "Xn: [[1.5], [3.32], [5.3], [2.3], [3.3]]\n",
      "Xn: [[1.3], [3.7], [5.1], [2.4], [3.4]]\n",
      "4.926375691244265\n",
      "5.386118708413254\n",
      "5.386118708429901\n"
     ]
    },
    {
     "data": {
      "text/plain": [
       "-1.6647128120439447e-11"
      ]
     },
     "execution_count": 87,
     "metadata": {},
     "output_type": "execute_result"
    }
   ],
   "source": [
    "x = np.array([[1.3],[3.7],[5.1],[2.4],[3.4]])\n",
    "y = np.array([[1.5],[3.32],[5.3],[2.3],[3.3]])\n",
    "\n",
    "o_information(x,y)"
   ]
  }
 ],
 "metadata": {
  "kernelspec": {
   "display_name": "vte",
   "language": "python",
   "name": "python3"
  },
  "language_info": {
   "codemirror_mode": {
    "name": "ipython",
    "version": 3
   },
   "file_extension": ".py",
   "mimetype": "text/x-python",
   "name": "python",
   "nbconvert_exporter": "python",
   "pygments_lexer": "ipython3",
   "version": "3.10.8"
  }
 },
 "nbformat": 4,
 "nbformat_minor": 2
}
