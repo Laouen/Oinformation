{
 "cells": [
  {
   "cell_type": "code",
   "execution_count": 1,
   "metadata": {},
   "outputs": [],
   "source": [
    "import jpype\n",
    "import random\n",
    "import numpy"
   ]
  },
  {
   "cell_type": "code",
   "execution_count": 2,
   "metadata": {},
   "outputs": [],
   "source": [
    "import jpype\n",
    "import jpype.imports\n",
    "from jpype.types import JArray, JDouble"
   ]
  },
  {
   "cell_type": "code",
   "execution_count": 3,
   "metadata": {},
   "outputs": [
    {
     "name": "stdout",
     "output_type": "stream",
     "text": [
      "Mutual Information between X1 and X2: 0.4702636677445955\n"
     ]
    }
   ],
   "source": [
    "\n",
    "# Change location of jar to match yours:\n",
    "jarLocation = \"/home/laouen.belloli/Downloads/infodynamics-dist-1.6.1/infodynamics.jar\"\n",
    "\n",
    "# Start the JVM (add the \"-Xmx\" option with say 1024M if you get crashes due to not enough memory space)\n",
    "jpype.startJVM(jpype.getDefaultJVMPath(), \"-ea\", \"-Djava.class.path=\" + jarLocation)\n",
    "\n",
    "# Import Java classes\n",
    "from infodynamics.measures.continuous.kernel import MutualInfoCalculatorMultiVariateKernel\n",
    "\n",
    "import numpy as np\n",
    "\n",
    "# Generate sample data\n",
    "np.random.seed(1)\n",
    "X1 = np.random.normal(0, 1, 1000)  # 1000 samples of X1\n",
    "X2 = X1 + np.random.normal(0, 1, 1000)  # X2 is correlated with X1 plus some noise\n",
    "\n",
    "\n",
    "# Convert numpy arrays to JArray (JIDT format)\n",
    "x1_array = JArray(JDouble, 1)(X1.tolist())\n",
    "x2_array = JArray(JDouble, 1)(X2.tolist())\n",
    "\n",
    "# Create a MI calculator and set its properties\n",
    "mi_calculator = MutualInfoCalculatorMultiVariateKernel()\n",
    "mi_calculator.setProperty(\"NORMALISE\", \"true\")  # Normalise the data\n",
    "mi_calculator.setProperty(\"KERNEL_WIDTH\", \"0.5\")  # Set the kernel width, may need tuning\n",
    "\n",
    "# Initialise the calculator and supply the data\n",
    "mi_calculator.initialise(1, 1)  # 1 variable for source and destination each\n",
    "mi_calculator.setObservations(x1_array, x2_array)\n",
    "\n",
    "# Compute the MI\n",
    "mi = mi_calculator.computeAverageLocalOfObservations()\n",
    "print(f\"Mutual Information between X1 and X2: {mi}\")\n",
    "\n",
    "\n",
    "jpype.shutdownJVM() "
   ]
  },
  {
   "cell_type": "code",
   "execution_count": null,
   "metadata": {},
   "outputs": [],
   "source": []
  }
 ],
 "metadata": {
  "kernelspec": {
   "display_name": "vte",
   "language": "python",
   "name": "python3"
  },
  "language_info": {
   "codemirror_mode": {
    "name": "ipython",
    "version": 3
   },
   "file_extension": ".py",
   "mimetype": "text/x-python",
   "name": "python",
   "nbconvert_exporter": "python",
   "pygments_lexer": "ipython3",
   "version": "3.10.8"
  }
 },
 "nbformat": 4,
 "nbformat_minor": 2
}
