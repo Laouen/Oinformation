{
 "cells": [
  {
   "cell_type": "code",
   "execution_count": 1,
   "metadata": {},
   "outputs": [],
   "source": [
    "import numpy as np\n",
    "import pandas as pd\n",
    "import matplotlib.pyplot as plt\n",
    "import seaborn as sns"
   ]
  },
  {
   "cell_type": "code",
   "execution_count": null,
   "metadata": {},
   "outputs": [],
   "source": [
    "def plot_pairwise_distributions(data, x_vars=None, y_vars=None, corner=True):\n",
    "\n",
    "    sns.pairplot(\n",
    "        data,\n",
    "        x_vars=x_vars, y_vars=y_vars,\n",
    "        kind='hist', plot_kws={'alpha': 0.6}, corner=corner\n",
    "    )\n",
    "\n",
    "    plt.tight_layout()\n",
    "    plt.show()\n",
    "\n",
    "def plot_variable_pairs(matrix1, matrix2):\n",
    "    \"\"\"\n",
    "    Plots scatter plots for each pair of corresponding variables from two matrices.\n",
    "    \n",
    "    Parameters:\n",
    "    - matrix1 (np.ndarray): First data matrix of size T x N.\n",
    "    - matrix2 (np.ndarray): Second data matrix of size T x N.\n",
    "    \"\"\"\n",
    "    # Get the number of variables (columns)\n",
    "    N = matrix1.shape[1]\n",
    "    \n",
    "    # Create a figure with subplots in a grid\n",
    "    fig, axs = plt.subplots(1, N, figsize=(5 * N, 4))  # Adjust subplot size and figure size as needed\n",
    "    \n",
    "    # Iterate over each variable\n",
    "    for i in range(N):\n",
    "        ax = axs[i] if N > 1 else axs  # Handling both single and multiple subplots\n",
    "        ax.scatter(matrix1[:, i], matrix2[:, i], alpha=0.5)  # Plot scatter plot of variable i\n",
    "        ax.set_title(f'Variable {i+1}')\n",
    "        ax.set_xlabel('Matrix 1 Variable {}'.format(i+1))\n",
    "        ax.set_ylabel('Matrix 2 Variable {}'.format(i+1))\n",
    "    \n",
    "    # Adjust layout and show the plot\n",
    "    plt.tight_layout()\n",
    "    plt.show()"
   ]
  }
 ],
 "metadata": {
  "kernelspec": {
   "display_name": "vte",
   "language": "python",
   "name": "python3"
  },
  "language_info": {
   "codemirror_mode": {
    "name": "ipython",
    "version": 3
   },
   "file_extension": ".py",
   "mimetype": "text/x-python",
   "name": "python",
   "nbconvert_exporter": "python",
   "pygments_lexer": "ipython3",
   "version": "3.10.8"
  }
 },
 "nbformat": 4,
 "nbformat_minor": 2
}
